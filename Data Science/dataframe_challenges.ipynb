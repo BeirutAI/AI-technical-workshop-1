{
 "cells": [
  {
   "cell_type": "code",
   "execution_count": null,
   "metadata": {},
   "outputs": [],
   "source": [
    "import pandas\n",
    "\n",
    "fields = ['funded_amount', 'lender_count', 'country', 'sector', 'currency']\n",
    "dataframe = pandas.read_csv('kiva_loans.csv', usecols=fields)\n",
    "\n",
    "# number of loans by country\n",
    "df = dataframe['country'].value_counts()\n",
    "print(df)"
   ]
  },
  {
   "cell_type": "code",
   "execution_count": null,
   "metadata": {},
   "outputs": [],
   "source": [
    "# amount of loans by country and currency\n",
    "df = dataframe.groupby(['country', 'currency'])['funded_amount'].sum() \n",
    "print(df)"
   ]
  },
  {
   "cell_type": "code",
   "execution_count": null,
   "metadata": {},
   "outputs": [],
   "source": [
    "# amount of loans in every country, grouped by currency and sector\n",
    "df = dataframe.groupby(['country', 'currency', 'sector'])['funded_amount'].sum()\n",
    "# instead of printing the values, we save them as csv file\n",
    "df.to_csv('country_sector_loans_amounts.csv')"
   ]
  },
  {
   "cell_type": "code",
   "execution_count": null,
   "metadata": {},
   "outputs": [],
   "source": []
  }
 ],
 "metadata": {
  "kernelspec": {
   "display_name": "Python 3",
   "language": "python",
   "name": "python3"
  },
  "language_info": {
   "codemirror_mode": {
    "name": "ipython",
    "version": 3
   },
   "file_extension": ".py",
   "mimetype": "text/x-python",
   "name": "python",
   "nbconvert_exporter": "python",
   "pygments_lexer": "ipython3",
   "version": "3.5.2"
  }
 },
 "nbformat": 4,
 "nbformat_minor": 2
}
